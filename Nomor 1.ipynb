{
 "cells": [
  {
   "cell_type": "markdown",
   "id": "4ec8751c",
   "metadata": {},
   "source": [
    "# Lakukan uji univariat terhadap masing-masing variabel sales dan profit untuk mengetahui  (mean, median, standar deviasi dan variansi)"
   ]
  },
  {
   "cell_type": "code",
   "execution_count": 1,
   "id": "531e18db",
   "metadata": {},
   "outputs": [],
   "source": [
    "import pandas as pd\n",
    "import statistics\n",
    "import datetime"
   ]
  },
  {
   "cell_type": "code",
   "execution_count": 2,
   "id": "ec4c0178",
   "metadata": {},
   "outputs": [
    {
     "data": {
      "text/html": [
       "<div>\n",
       "<style scoped>\n",
       "    .dataframe tbody tr th:only-of-type {\n",
       "        vertical-align: middle;\n",
       "    }\n",
       "\n",
       "    .dataframe tbody tr th {\n",
       "        vertical-align: top;\n",
       "    }\n",
       "\n",
       "    .dataframe thead th {\n",
       "        text-align: right;\n",
       "    }\n",
       "</style>\n",
       "<table border=\"1\" class=\"dataframe\">\n",
       "  <thead>\n",
       "    <tr style=\"text-align: right;\">\n",
       "      <th></th>\n",
       "      <th>order_id</th>\n",
       "      <th>order_date</th>\n",
       "      <th>customer_id</th>\n",
       "      <th>segment</th>\n",
       "      <th>category</th>\n",
       "      <th>sub_category</th>\n",
       "      <th>sales</th>\n",
       "      <th>quantity</th>\n",
       "      <th>profit</th>\n",
       "    </tr>\n",
       "  </thead>\n",
       "  <tbody>\n",
       "    <tr>\n",
       "      <th>0</th>\n",
       "      <td>CA-2016-152156</td>\n",
       "      <td>11/8/2016</td>\n",
       "      <td>CG-12520</td>\n",
       "      <td>Consumer</td>\n",
       "      <td>Furniture</td>\n",
       "      <td>Bookcases</td>\n",
       "      <td>261.9600</td>\n",
       "      <td>2</td>\n",
       "      <td>41.9136</td>\n",
       "    </tr>\n",
       "    <tr>\n",
       "      <th>1</th>\n",
       "      <td>CA-2016-152156</td>\n",
       "      <td>11/8/2016</td>\n",
       "      <td>CG-12520</td>\n",
       "      <td>Consumer</td>\n",
       "      <td>Furniture</td>\n",
       "      <td>Chairs</td>\n",
       "      <td>731.9400</td>\n",
       "      <td>3</td>\n",
       "      <td>219.5820</td>\n",
       "    </tr>\n",
       "    <tr>\n",
       "      <th>2</th>\n",
       "      <td>CA-2016-138688</td>\n",
       "      <td>6/12/2016</td>\n",
       "      <td>DV-13045</td>\n",
       "      <td>Corporate</td>\n",
       "      <td>Office Supplies</td>\n",
       "      <td>Labels</td>\n",
       "      <td>14.6200</td>\n",
       "      <td>2</td>\n",
       "      <td>6.8714</td>\n",
       "    </tr>\n",
       "    <tr>\n",
       "      <th>3</th>\n",
       "      <td>US-2015-108966</td>\n",
       "      <td>10/11/2015</td>\n",
       "      <td>SO-20335</td>\n",
       "      <td>Consumer</td>\n",
       "      <td>Furniture</td>\n",
       "      <td>Tables</td>\n",
       "      <td>957.5775</td>\n",
       "      <td>5</td>\n",
       "      <td>-383.0310</td>\n",
       "    </tr>\n",
       "    <tr>\n",
       "      <th>4</th>\n",
       "      <td>US-2015-108966</td>\n",
       "      <td>10/11/2015</td>\n",
       "      <td>SO-20335</td>\n",
       "      <td>Consumer</td>\n",
       "      <td>Office Supplies</td>\n",
       "      <td>Storage</td>\n",
       "      <td>22.3680</td>\n",
       "      <td>2</td>\n",
       "      <td>2.5164</td>\n",
       "    </tr>\n",
       "    <tr>\n",
       "      <th>...</th>\n",
       "      <td>...</td>\n",
       "      <td>...</td>\n",
       "      <td>...</td>\n",
       "      <td>...</td>\n",
       "      <td>...</td>\n",
       "      <td>...</td>\n",
       "      <td>...</td>\n",
       "      <td>...</td>\n",
       "      <td>...</td>\n",
       "    </tr>\n",
       "    <tr>\n",
       "      <th>9983</th>\n",
       "      <td>CA-2014-110422</td>\n",
       "      <td>1/21/2014</td>\n",
       "      <td>TB-21400</td>\n",
       "      <td>Consumer</td>\n",
       "      <td>Furniture</td>\n",
       "      <td>Furnishings</td>\n",
       "      <td>25.2480</td>\n",
       "      <td>3</td>\n",
       "      <td>4.1028</td>\n",
       "    </tr>\n",
       "    <tr>\n",
       "      <th>9984</th>\n",
       "      <td>CA-2017-121258</td>\n",
       "      <td>2/26/2017</td>\n",
       "      <td>DB-13060</td>\n",
       "      <td>Consumer</td>\n",
       "      <td>Furniture</td>\n",
       "      <td>Furnishings</td>\n",
       "      <td>91.9600</td>\n",
       "      <td>2</td>\n",
       "      <td>15.6332</td>\n",
       "    </tr>\n",
       "    <tr>\n",
       "      <th>9985</th>\n",
       "      <td>CA-2017-121258</td>\n",
       "      <td>2/26/2017</td>\n",
       "      <td>DB-13060</td>\n",
       "      <td>Consumer</td>\n",
       "      <td>Technology</td>\n",
       "      <td>Phones</td>\n",
       "      <td>258.5760</td>\n",
       "      <td>2</td>\n",
       "      <td>19.3932</td>\n",
       "    </tr>\n",
       "    <tr>\n",
       "      <th>9986</th>\n",
       "      <td>CA-2017-121258</td>\n",
       "      <td>2/26/2017</td>\n",
       "      <td>DB-13060</td>\n",
       "      <td>Consumer</td>\n",
       "      <td>Office Supplies</td>\n",
       "      <td>Paper</td>\n",
       "      <td>29.6000</td>\n",
       "      <td>4</td>\n",
       "      <td>13.3200</td>\n",
       "    </tr>\n",
       "    <tr>\n",
       "      <th>9987</th>\n",
       "      <td>CA-2017-119914</td>\n",
       "      <td>5/4/2017</td>\n",
       "      <td>CC-12220</td>\n",
       "      <td>Consumer</td>\n",
       "      <td>Office Supplies</td>\n",
       "      <td>Appliances</td>\n",
       "      <td>243.1600</td>\n",
       "      <td>2</td>\n",
       "      <td>72.9480</td>\n",
       "    </tr>\n",
       "  </tbody>\n",
       "</table>\n",
       "<p>9988 rows × 9 columns</p>\n",
       "</div>"
      ],
      "text/plain": [
       "            order_id  order_date customer_id    segment         category  \\\n",
       "0     CA-2016-152156   11/8/2016    CG-12520   Consumer        Furniture   \n",
       "1     CA-2016-152156   11/8/2016    CG-12520   Consumer        Furniture   \n",
       "2     CA-2016-138688   6/12/2016    DV-13045  Corporate  Office Supplies   \n",
       "3     US-2015-108966  10/11/2015    SO-20335   Consumer        Furniture   \n",
       "4     US-2015-108966  10/11/2015    SO-20335   Consumer  Office Supplies   \n",
       "...              ...         ...         ...        ...              ...   \n",
       "9983  CA-2014-110422   1/21/2014    TB-21400   Consumer        Furniture   \n",
       "9984  CA-2017-121258   2/26/2017    DB-13060   Consumer        Furniture   \n",
       "9985  CA-2017-121258   2/26/2017    DB-13060   Consumer       Technology   \n",
       "9986  CA-2017-121258   2/26/2017    DB-13060   Consumer  Office Supplies   \n",
       "9987  CA-2017-119914    5/4/2017    CC-12220   Consumer  Office Supplies   \n",
       "\n",
       "     sub_category     sales  quantity    profit  \n",
       "0       Bookcases  261.9600         2   41.9136  \n",
       "1          Chairs  731.9400         3  219.5820  \n",
       "2          Labels   14.6200         2    6.8714  \n",
       "3          Tables  957.5775         5 -383.0310  \n",
       "4         Storage   22.3680         2    2.5164  \n",
       "...           ...       ...       ...       ...  \n",
       "9983  Furnishings   25.2480         3    4.1028  \n",
       "9984  Furnishings   91.9600         2   15.6332  \n",
       "9985       Phones  258.5760         2   19.3932  \n",
       "9986        Paper   29.6000         4   13.3200  \n",
       "9987   Appliances  243.1600         2   72.9480  \n",
       "\n",
       "[9988 rows x 9 columns]"
      ]
     },
     "execution_count": 2,
     "metadata": {},
     "output_type": "execute_result"
    }
   ],
   "source": [
    "df = pd.read_csv(\"dataset_superstore_simple.csv\")\n",
    "df"
   ]
  },
  {
   "cell_type": "markdown",
   "id": "40813dde",
   "metadata": {},
   "source": [
    "## Menghitung mean"
   ]
  },
  {
   "cell_type": "code",
   "execution_count": 3,
   "id": "0ac1667f",
   "metadata": {},
   "outputs": [
    {
     "data": {
      "text/plain": [
       "0       261.9600\n",
       "1       731.9400\n",
       "2        14.6200\n",
       "3       957.5775\n",
       "4        22.3680\n",
       "          ...   \n",
       "9983     25.2480\n",
       "9984     91.9600\n",
       "9985    258.5760\n",
       "9986     29.6000\n",
       "9987    243.1600\n",
       "Name: sales, Length: 9988, dtype: float64"
      ]
     },
     "execution_count": 3,
     "metadata": {},
     "output_type": "execute_result"
    }
   ],
   "source": [
    "a = df['sales']\n",
    "a"
   ]
  },
  {
   "cell_type": "code",
   "execution_count": 4,
   "id": "f7dc5010",
   "metadata": {},
   "outputs": [
    {
     "data": {
      "text/plain": [
       "221.9525978474123"
      ]
     },
     "execution_count": 4,
     "metadata": {},
     "output_type": "execute_result"
    }
   ],
   "source": [
    "#membuat variabel rata rata\n",
    "mean = sum(a)/len(a)\n",
    "mean"
   ]
  },
  {
   "cell_type": "markdown",
   "id": "c74916cf",
   "metadata": {},
   "source": [
    "## Menghitung median"
   ]
  },
  {
   "cell_type": "code",
   "execution_count": 5,
   "id": "669ce993",
   "metadata": {},
   "outputs": [
    {
     "data": {
      "text/plain": [
       "54.376000000000005"
      ]
     },
     "execution_count": 5,
     "metadata": {},
     "output_type": "execute_result"
    }
   ],
   "source": [
    "#membuat variable median\n",
    "median = statistics.median(a)\n",
    "median"
   ]
  },
  {
   "cell_type": "markdown",
   "id": "2194ba69",
   "metadata": {},
   "source": [
    "## Menghitung Standard Deviasi"
   ]
  },
  {
   "cell_type": "code",
   "execution_count": 6,
   "id": "7a632767",
   "metadata": {},
   "outputs": [
    {
     "data": {
      "text/plain": [
       "514.8180427890117"
      ]
     },
     "execution_count": 6,
     "metadata": {},
     "output_type": "execute_result"
    }
   ],
   "source": [
    "std = statistics.stdev(a)\n",
    "std"
   ]
  },
  {
   "cell_type": "markdown",
   "id": "8ba906c6",
   "metadata": {},
   "source": [
    "## Menghitung Variance"
   ]
  },
  {
   "cell_type": "code",
   "execution_count": 7,
   "id": "f4b100eb",
   "metadata": {},
   "outputs": [
    {
     "data": {
      "text/plain": [
       "265037.6171811087"
      ]
     },
     "execution_count": 7,
     "metadata": {},
     "output_type": "execute_result"
    }
   ],
   "source": [
    "var = statistics.variance(a)\n",
    "var"
   ]
  },
  {
   "cell_type": "code",
   "execution_count": null,
   "id": "d8dab64d",
   "metadata": {},
   "outputs": [],
   "source": []
  }
 ],
 "metadata": {
  "kernelspec": {
   "display_name": "Python 3",
   "language": "python",
   "name": "python3"
  },
  "language_info": {
   "codemirror_mode": {
    "name": "ipython",
    "version": 3
   },
   "file_extension": ".py",
   "mimetype": "text/x-python",
   "name": "python",
   "nbconvert_exporter": "python",
   "pygments_lexer": "ipython3",
   "version": "3.8.8"
  }
 },
 "nbformat": 4,
 "nbformat_minor": 5
}
